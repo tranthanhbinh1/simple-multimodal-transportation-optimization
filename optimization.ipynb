{
 "cells": [
  {
   "cell_type": "code",
   "execution_count": 34,
   "metadata": {},
   "outputs": [
    {
     "name": "stdout",
     "output_type": "stream",
     "text": [
      "3.10.11\n"
     ]
    }
   ],
   "source": [
    "from platform import python_version\n",
    "\n",
    "print(python_version())"
   ]
  },
  {
   "cell_type": "code",
   "execution_count": 1,
   "metadata": {},
   "outputs": [],
   "source": [
    "import cplex"
   ]
  },
  {
   "attachments": {},
   "cell_type": "markdown",
   "metadata": {},
   "source": [
    "Iter\n"
   ]
  },
  {
   "cell_type": "code",
   "execution_count": 20,
   "metadata": {},
   "outputs": [
    {
     "name": "stdout",
     "output_type": "stream",
     "text": [
      "{'A_N2_D3': 2, 'A_S_N2': 3, 'B_N1_D4': 2, 'B_N2_D3': 1, 'B_N1_D1': 2, 'B_N2_D1': 3, 'A_N2_D1': 2, 'B_N2_D2': 3, 'A_N1_D4': 2, 'B_S_N1': 3, 'A_N1_D3': 2, 'A_N1_D2': 1, 'A_N2_D4': 3, 'B_S_N2': 2, 'A_S_N1': 2, 'B_N1_D2': 3, 'B_N2_D4': 3, 'B_N1_D3': 1, 'A_N1_D1': 2, 'A_N2_D2': 2}\n",
      "Supply constraints are {'A': [['A_S_N1', 'A_S_N2'], [1, 1]], 'B': [['B_S_N1', 'B_S_N2'], [1, 1]]}\n",
      "Supply RHS are ['40', '30']\n",
      "Demand constraints are {'D2_A': [['A_N1_D2', 'A_N2_D2'], [1, 1]], 'D2_B': [['B_N1_D2', 'B_N2_D2'], [1, 1]], 'D3_A': [['A_N1_D3', 'A_N2_D3'], [1, 1]], 'D3_B': [['B_N1_D3', 'B_N2_D3'], [1, 1]], 'D4_A': [['A_N1_D4', 'A_N2_D4'], [1, 1]], 'D4_B': [['B_N1_D4', 'B_N2_D4'], [1, 1]], 'D1_A': [['A_N1_D1', 'A_N2_D1'], [1, 1]], 'D1_B': [['B_N1_D1', 'B_N2_D1'], [1, 1]]}\n",
      "Demand RHS is ['10', '20', '10', '20', '15', '20', '15', '20']\n",
      "{'S_N1': [['A_S_N1', 'B_S_N1'], [1, 1]], 'S_N2': [['A_S_N2', 'B_S_N2'], [1, 1]], 'N1_D2': [['A_N1_D2', 'B_N1_D2'], [1, 1]], 'N1_D3': [['A_N1_D3', 'B_N1_D3'], [1, 1]], 'N1_D4': [['A_N1_D4', 'B_N1_D4'], [1, 1]], 'N1_D1': [['A_N1_D1', 'B_N1_D1'], [1, 1]], 'N2_D2': [['A_N2_D2', 'B_N2_D2'], [1, 1]], 'N2_D3': [['A_N2_D3', 'B_N2_D3'], [1, 1]], 'N2_D4': [['A_N2_D4', 'B_N2_D4'], [1, 1]], 'N2_D1': [['A_N2_D1', 'B_N2_D1'], [1, 1]]}\n",
      "Capacity RHS are ['20', '10', '10', '25', '25', '20', '20', '15', '25', '15']\n"
     ]
    }
   ],
   "source": [
    "# (S) to 4 hospitals (D1, D2, D3, and D4) through 2 distribution centers (N1 and N2).\n",
    "# User input\n",
    "import itertools\n",
    "# supplier = {'S'}\n",
    "# vacc_types = {'A'}    #{'A', 'B'}\n",
    "# hospitals = {'D1', 'D2'}       #{'D1', 'D2', 'D3', 'D4'}\n",
    "# dis_center = {'N1'}     #{'N1', 'N2'}\n",
    "\n",
    "supplier = {'S'}\n",
    "vacc_types = {'A', 'B'}\n",
    "hospitals = {'D1', 'D2', 'D3', 'D4'}\n",
    "dis_center = {'N1', 'N2'}\n",
    "\n",
    "variables1 = []\n",
    "for vaccine in vacc_types:\n",
    "    for sup in supplier:\n",
    "        for center in dis_center:\n",
    "            variables1.append(f'{vaccine}_{sup}_{center}')\n",
    "            for hospital in hospitals:\n",
    "                variables1.append(f'{vaccine}_{center}_{hospital}')\n",
    "\n",
    "supp_to_dis = list('_'.join(chars) for chars in itertools.product(vacc_types, supplier, dis_center))\n",
    "dis_to_hos = list('_'.join(chars) for chars in itertools.product(vacc_types, dis_center, hospitals))\n",
    "# Add to Variables\n",
    "all_paths = set(supp_to_dis + dis_to_hos)\n",
    "\n",
    "# print(supp_to_dis)\n",
    "# print(f\"Number of paths for each vaccine from Supplier to Distribution centers: {len(supp_to_dis)}\")\n",
    "# print(dis_to_hos)\n",
    "# print(f\"Number of paths for each vaccine from Distribution Centers to Hospitals: {len(dis_to_hos)}\")\n",
    "# print(f\"The total number of Paths that needs to be considered: {len(all_paths)}\")\n",
    "\n",
    "cost_of_each_path = []\n",
    "for i in all_paths:\n",
    "  cost_inp = int(input(f\"Cost of {i}:\"))\n",
    "  cost_of_each_path.append(cost_inp)\n",
    "\n",
    "# problem.objective.set_linear(list(costs.items()))\n",
    "costs1 = dict(zip(all_paths, cost_of_each_path))\n",
    "print(costs1)\n",
    "\n",
    "# Supply constraints\n",
    "supply_constraints1 = {}\n",
    "for vacc_type in vacc_types:\n",
    "    supply_key = vacc_type\n",
    "    supply_value = [[f'{vacc_type}_S_{center}' for center in dis_center], [1, 1]]\n",
    "    supply_constraints1[supply_key] = supply_value\n",
    "print(f\"Supply constraints are {supply_constraints1}\")\n",
    "# Demand RHS\n",
    "supply_rhs = {}\n",
    "for key in supply_constraints1:\n",
    "    value = input(f\"Enter supply value for each: '{key}': \")\n",
    "    supply_rhs[key] = value\n",
    "supply_rhs_list = []\n",
    "for key,value in supply_rhs.items():\n",
    "    supply_rhs_list.append(value)\n",
    "print(f\"Supply RHS are {supply_rhs_list}\")\n",
    "\n",
    "# Demand constraints\n",
    "demand_constraints1 = {}\n",
    "for hospital in hospitals:\n",
    "    for vacc_type in vacc_types:\n",
    "        demand_key = f'{hospital}_{vacc_type}'\n",
    "        demand_value = [[f'{vacc_type}_{center}_{hospital}' for center in dis_center], [1, 1]]\n",
    "        demand_constraints1[demand_key] = demand_value\n",
    "print(f\"Demand constraints are {demand_constraints1}\")\n",
    "\n",
    "# Demand RHS\n",
    "demand_rhs = {}\n",
    "for key in demand_constraints1:\n",
    "    value = input(f\"Enter demand value for each pair '{key}': \")\n",
    "    demand_rhs[key] = value\n",
    "demand_rhs_list = []\n",
    "for key,value in demand_rhs.items():\n",
    "    demand_rhs_list.append(value)\n",
    "\n",
    "print(f\"Demand RHS is {demand_rhs_list}\")\n",
    "\n",
    "\n",
    "# Capacity Constraints\n",
    "capacity_constraints1 = {}\n",
    "for sup in supplier:\n",
    "    for dis in dis_center:\n",
    "        constraint_key = f\"{sup}_{dis}\"\n",
    "        constraint_value = [[f\"{vacc}_{sup}_{dis}\" for vacc in vacc_types], [1, 1]]\n",
    "        capacity_constraints1[constraint_key] = constraint_value\n",
    "for sup in supplier:\n",
    "    for dis in dis_center:\n",
    "        # Create capacity constraints for each distribution center\n",
    "        for hosp in hospitals:\n",
    "            constraint_key = f\"{dis}_{hosp}\"\n",
    "            constraint_value = [[f\"{vacc}_{dis}_{hosp}\" for vacc in vacc_types], [1, 1]]\n",
    "            capacity_constraints1[constraint_key] = constraint_value\n",
    "print(capacity_constraints1)\n",
    "\n",
    "# Capacity RHS\n",
    "capacity_rhs = {}\n",
    "for key in capacity_constraints1:\n",
    "    value = input(f\"Enter capacity constraints for each pair '{key}': \")\n",
    "    capacity_rhs[key] = value\n",
    "capacity_rhs_list = []\n",
    "for key,value in capacity_rhs.items():\n",
    "    capacity_rhs_list.append(value)\n",
    "\n",
    "print(f\"Capacity RHS are {capacity_rhs_list}\")\n",
    "\n"
   ]
  },
  {
   "attachments": {},
   "cell_type": "markdown",
   "metadata": {},
   "source": [
    "Function"
   ]
  },
  {
   "cell_type": "code",
   "execution_count": 21,
   "metadata": {},
   "outputs": [],
   "source": [
    "def solve_optimization(variables, costs, supply_constraints, demand_constraints, capacity_constraints, supply_rhs, demand_rhs, capacity_rhs):\n",
    "  # Initialize the problem\n",
    "  problem = cplex.Cplex()\n",
    "\n",
    "\n",
    "  problem.objective.set_sense(problem.objective.sense.minimize)\n",
    "\n",
    "  # Define the variables and their types\n",
    "\n",
    "  problem.variables.add(names=variables, types=[problem.variables.type.continuous] * len(variables))\n",
    "\n",
    "  # Set the objective function\n",
    "  problem.objective.set_linear(list(costs.items()))\n",
    "\n",
    "  # Add the supply constraints\n",
    "  problem.linear_constraints.add(\n",
    "      lin_expr=[cplex.SparsePair(ind=supply_constraints[v][0], val=supply_constraints[v][1]) for v in ['A', 'B']],\n",
    "      senses=[\"E\", \"E\"],\n",
    "      rhs=[float(num) for num in supply_rhs],\n",
    "      names=[f\"Supply_{key}\" for key in supply_constraints.keys()]\n",
    "  )\n",
    "\n",
    "  # Add the demand constraints\n",
    "  problem.linear_constraints.add(\n",
    "      lin_expr=[cplex.SparsePair(ind=demand_constraints[v][0],\n",
    "\n",
    "  val=demand_constraints[v][1]) for v in demand_constraints.keys()],\n",
    "      senses=[\"E\"] * len(demand_constraints),\n",
    "      rhs=[float(num) for num in demand_rhs],\n",
    "      names=list(demand_constraints.keys())\n",
    "  )\n",
    "\n",
    "  # Add the capacity constraints\n",
    "  problem.linear_constraints.add(\n",
    "      lin_expr=[cplex.SparsePair(ind=capacity_constraints[v][0], val=capacity_constraints[v][1]) for v in capacity_constraints.keys()],\n",
    "      senses=[\"L\"] * len(capacity_constraints),\n",
    "      rhs=[float(num) for num in capacity_rhs],\n",
    "      names=list(capacity_constraints.keys())\n",
    "  )\n",
    "\n",
    "  # Solve the problem\n",
    "  problem.solve()\n",
    "\n",
    "  # Print the solution status\n",
    "  print(\"Solution status = \", problem.solution.get_status(), \":\", end=' ')\n",
    "  print(problem.solution.status[problem.solution.get_status()])\n",
    "\n",
    "  # Print the solution value\n",
    "  print(\"Solution value  = \", problem.solution.get_objective_value())\n",
    "\n",
    "  # Get the optimal values for the decision variables\n",
    "  x = problem.solution.get_values()\n",
    "  for v, val in zip(variables, x):\n",
    "    if val > 0:\n",
    "        print(f'{v}: {val}')\n",
    "    else:\n",
    "       pass"
   ]
  },
  {
   "cell_type": "code",
   "execution_count": 22,
   "metadata": {},
   "outputs": [
    {
     "name": "stdout",
     "output_type": "stream",
     "text": [
      "Version identifier: 22.1.1.0 | 2023-02-11 | 22d6266e5\n",
      "CPXPARAM_Read_DataCheck                          1\n",
      "Row 'Supply_A' infeasible, all entries at implied bounds.\n",
      "Presolve time = 0.00 sec. (0.00 ticks)\n",
      "\n",
      "Root node processing (before b&c):\n",
      "  Real time             =    0.00 sec. (0.01 ticks)\n",
      "Parallel b&c, 12 threads:\n",
      "  Real time             =    0.00 sec. (0.00 ticks)\n",
      "  Sync time (average)   =    0.00 sec.\n",
      "  Wait time (average)   =    0.00 sec.\n",
      "                          ------------\n",
      "Total (root+branch&cut) =    0.00 sec. (0.01 ticks)\n"
     ]
    },
    {
     "name": "stderr",
     "output_type": "stream",
     "text": [
      "CPLEX Error  1217: No solution exists.\n"
     ]
    },
    {
     "name": "stdout",
     "output_type": "stream",
     "text": [
      "Solution status =  103 : MIP_infeasible\n"
     ]
    },
    {
     "ename": "CplexSolverError",
     "evalue": "CPLEX Error  1217: No solution exists.",
     "output_type": "error",
     "traceback": [
      "\u001b[0;31m---------------------------------------------------------------------------\u001b[0m",
      "\u001b[0;31mCplexSolverError\u001b[0m                          Traceback (most recent call last)",
      "Cell \u001b[0;32mIn[22], line 1\u001b[0m\n\u001b[0;32m----> 1\u001b[0m solve_optimization(variables1, costs1, supply_constraints1, demand_constraints1, capacity_constraints1, supply_rhs_list, demand_rhs_list, capacity_rhs_list)\n",
      "Cell \u001b[0;32mIn[21], line 49\u001b[0m, in \u001b[0;36msolve_optimization\u001b[0;34m(variables, costs, supply_constraints, demand_constraints, capacity_constraints, supply_rhs, demand_rhs, capacity_rhs)\u001b[0m\n\u001b[1;32m     46\u001b[0m \u001b[39mprint\u001b[39m(problem\u001b[39m.\u001b[39msolution\u001b[39m.\u001b[39mstatus[problem\u001b[39m.\u001b[39msolution\u001b[39m.\u001b[39mget_status()])\n\u001b[1;32m     48\u001b[0m \u001b[39m# Print the solution value\u001b[39;00m\n\u001b[0;32m---> 49\u001b[0m \u001b[39mprint\u001b[39m(\u001b[39m\"\u001b[39m\u001b[39mSolution value  = \u001b[39m\u001b[39m\"\u001b[39m, problem\u001b[39m.\u001b[39;49msolution\u001b[39m.\u001b[39;49mget_objective_value())\n\u001b[1;32m     51\u001b[0m \u001b[39m# Get the optimal values for the decision variables\u001b[39;00m\n\u001b[1;32m     52\u001b[0m x \u001b[39m=\u001b[39m problem\u001b[39m.\u001b[39msolution\u001b[39m.\u001b[39mget_values()\n",
      "File \u001b[0;32m~/miniconda3/envs/cplex/lib/python3.10/site-packages/cplex/_internal/_subinterfaces.py:7211\u001b[0m, in \u001b[0;36mSolutionInterface.get_objective_value\u001b[0;34m(self)\u001b[0m\n\u001b[1;32m   7197\u001b[0m \u001b[39mdef\u001b[39;00m \u001b[39mget_objective_value\u001b[39m(\u001b[39mself\u001b[39m):\n\u001b[1;32m   7198\u001b[0m \u001b[39m    \u001b[39m\u001b[39m\"\"\"Returns the value of the objective function.\u001b[39;00m\n\u001b[1;32m   7199\u001b[0m \n\u001b[1;32m   7200\u001b[0m \u001b[39m    Example usage:\u001b[39;00m\n\u001b[0;32m   (...)\u001b[0m\n\u001b[1;32m   7209\u001b[0m \u001b[39m    -202.5\u001b[39;00m\n\u001b[1;32m   7210\u001b[0m \u001b[39m    \"\"\"\u001b[39;00m\n\u001b[0;32m-> 7211\u001b[0m     \u001b[39mreturn\u001b[39;00m CPX_PROC\u001b[39m.\u001b[39;49mgetobjval(\u001b[39mself\u001b[39;49m\u001b[39m.\u001b[39;49m_env\u001b[39m.\u001b[39;49m_e, \u001b[39mself\u001b[39;49m\u001b[39m.\u001b[39;49m_cplex\u001b[39m.\u001b[39;49m_lp)\n",
      "File \u001b[0;32m~/miniconda3/envs/cplex/lib/python3.10/site-packages/cplex/_internal/_procedural.py:2055\u001b[0m, in \u001b[0;36mgetobjval\u001b[0;34m(env, lp)\u001b[0m\n\u001b[1;32m   2053\u001b[0m objval \u001b[39m=\u001b[39m CR\u001b[39m.\u001b[39mdoublePtr()\n\u001b[1;32m   2054\u001b[0m status \u001b[39m=\u001b[39m CR\u001b[39m.\u001b[39mCPXXgetobjval(env, lp, objval)\n\u001b[0;32m-> 2055\u001b[0m check_status(env, status)\n\u001b[1;32m   2056\u001b[0m \u001b[39mreturn\u001b[39;00m objval\u001b[39m.\u001b[39mvalue()\n",
      "File \u001b[0;32m~/miniconda3/envs/cplex/lib/python3.10/site-packages/cplex/_internal/_procedural.py:249\u001b[0m, in \u001b[0;36mStatusChecker.__call__\u001b[0;34m(self, env, status, from_cb)\u001b[0m\n\u001b[1;32m    247\u001b[0m     \u001b[39melse\u001b[39;00m:\n\u001b[1;32m    248\u001b[0m         error_string \u001b[39m=\u001b[39m geterrorstring(env, status)\n\u001b[0;32m--> 249\u001b[0m \u001b[39mraise\u001b[39;00m CplexSolverError(error_string, env, status)\n",
      "\u001b[0;31mCplexSolverError\u001b[0m: CPLEX Error  1217: No solution exists."
     ]
    }
   ],
   "source": [
    "solve_optimization(variables1, costs1, supply_constraints1, demand_constraints1, capacity_constraints1, supply_rhs_list, demand_rhs_list, capacity_rhs_list)"
   ]
  },
  {
   "attachments": {},
   "cell_type": "markdown",
   "metadata": {},
   "source": [
    "RHS cho Demand lấy ở cái Demand Constraints         --> lấy key cho mấy cái này\n",
    "RHS cho Supply thì cứ lấy ở Supply thôi\n",
    "RHS cho Capacity "
   ]
  },
  {
   "cell_type": "code",
   "execution_count": 10,
   "metadata": {},
   "outputs": [
    {
     "name": "stdout",
     "output_type": "stream",
     "text": [
      "{'D2_A': [['A_N1_D2', 'A_N2_D2'], [1, 1]], 'D2_B': [['B_N1_D2', 'B_N2_D2'], [1, 1]], 'D3_A': [['A_N1_D3', 'A_N2_D3'], [1, 1]], 'D3_B': [['B_N1_D3', 'B_N2_D3'], [1, 1]], 'D4_A': [['A_N1_D4', 'A_N2_D4'], [1, 1]], 'D4_B': [['B_N1_D4', 'B_N2_D4'], [1, 1]], 'D1_A': [['A_N1_D1', 'A_N2_D1'], [1, 1]], 'D1_B': [['B_N1_D1', 'B_N2_D1'], [1, 1]]}\n",
      "{'D2_A': '10', 'D2_B': '20', 'D3_A': '10', 'D3_B': '20', 'D4_A': '10', 'D4_B': '20', 'D1_A': '10', 'D1_B': '20'}\n",
      "['10', '20', '10', '20', '10', '20', '10', '20']\n"
     ]
    }
   ],
   "source": [
    "# Demand RHS\n",
    "demand_rhs = {}\n",
    "for key in demand_constraints1:\n",
    "    value = input(f\"Enter demand value for each pair '{key}': \")\n",
    "    demand_rhs[key] = value\n",
    "demand_rhs_list = []\n",
    "for key,value in demand_rhs.items():\n",
    "    demand_rhs_list.append(value)\n",
    "    \n",
    "print(demand_rhs_list)"
   ]
  },
  {
   "cell_type": "code",
   "execution_count": 11,
   "metadata": {},
   "outputs": [
    {
     "name": "stdout",
     "output_type": "stream",
     "text": [
      "Capacity RHS are ['50', '50', '100', '50', '50', '50', '50', '50', '50', '50']\n"
     ]
    }
   ],
   "source": [
    "# Capacity RHS\n",
    "capacity_rhs = {}\n",
    "for key in capacity_constraints1:\n",
    "    value = input(f\"Enter capacity constraints for each pair '{key}': \")\n",
    "    capacity_rhs[key] = value\n",
    "capacity_rhs_list = []\n",
    "for key,value in capacity_rhs.items():\n",
    "    capacity_rhs_list.append(value)\n",
    "\n",
    "print(f\"Capacity RHS are {capacity_rhs_list}\")"
   ]
  },
  {
   "cell_type": "code",
   "execution_count": 23,
   "metadata": {},
   "outputs": [
    {
     "name": "stdout",
     "output_type": "stream",
     "text": [
      "Suppliers: {'S2', 'S1'}\n",
      "Goods types: {'A', 'B'}\n",
      "End points: {' D2', ' D4', 'D1', ' D3'}\n",
      "Middle points: {'N1', 'N2'}\n"
     ]
    }
   ],
   "source": [
    "# Prompt the user for input\n",
    "suppliers_input = input(\"Enter suppliers (comma-separated): \")\n",
    "goods_types_input = input(\"Enter goods types (comma-separated): \")\n",
    "middle_points_input = input(\"Enter middle points (comma-separated): \")\n",
    "end_point_input = input(\"Enter end points (comma-separated): \")\n",
    "\n",
    "# Create dictionaries from user input\n",
    "suppliers = set(suppliers_input.split(','))\n",
    "goods_types = set(goods_types_input.split(','))\n",
    "middle_points = set(middle_points_input.split(','))\n",
    "end_point = set(end_point_input.split(','))\n",
    "\n",
    "# Print the dictionaries\n",
    "print(\"Suppliers:\", suppliers)\n",
    "print(\"Goods types:\", goods_types)\n",
    "print(\"End points:\", end_point)\n",
    "print(\"Middle points:\", middle_points)\n"
   ]
  }
 ],
 "metadata": {
  "kernelspec": {
   "display_name": "Python 3 (ipykernel)",
   "language": "python",
   "name": "python3"
  },
  "language_info": {
   "codemirror_mode": {
    "name": "ipython",
    "version": 3
   },
   "file_extension": ".py",
   "mimetype": "text/x-python",
   "name": "python",
   "nbconvert_exporter": "python",
   "pygments_lexer": "ipython3",
   "version": "3.10.11"
  },
  "orig_nbformat": 4
 },
 "nbformat": 4,
 "nbformat_minor": 2
}
